{
 "cells": [
  {
   "cell_type": "markdown",
   "metadata": {},
   "source": [
    "<h2><center>Week 6 - Assignment</center></h2>\n",
    "<h3><center>Programming for Data Science 2024</center></h3>"
   ]
  },
  {
   "cell_type": "markdown",
   "metadata": {},
   "source": [
    "Exercises for the topics covered in the sixth lecture.\n",
    "\n",
    "The exercise will be marked as passed if you get **at least 10/15** points.\n",
    "\n",
    "Exercises must be handed in via **ILIAS** (Homework assignments). Deliver your submission as a compressed file (zip) containing one .py or .ipynb file with all exercises. The name of both the .zip and the .py/.ipynb file **must** be *SurnameName* of the two members of the group. Example: Riccardo Cusinato + Athina Tzovara = *CusinatoRiccardo_TzovaraAthina.zip* .\n",
    "\n",
    "It's important to use comments to explain your code and show that you're able to take ownership of the exercises and discuss them.\n",
    "\n",
    "You are not expected to collaborate outside of the group on exercises and submitting other groups’ code as your own will result in 0 points.\n",
    "\n",
    "For questions contact: *riccardo.cusinato@unibe.ch* with the subject: *Programming for Data Science 2024*.\n",
    "\n",
    "**Deadline: 14:00, April 11, 2024.**"
   ]
  },
  {
   "cell_type": "markdown",
   "metadata": {},
   "source": [
    "<h3 style=\"text-align:left;\">Exercise 1 - World Happiness Report<span style=\"float: right\">8 points</span></h3>"
   ]
  },
  {
   "cell_type": "markdown",
   "metadata": {},
   "source": [
    "You will find the CSV files *report.csv* and *region.csv* in the data folder for this assignment (Credit: https://www.kaggle.com/ajaypalsinghlo/world-happiness-report-2021).\n",
    "\n",
    "1. Import the two *csv* files and save them in two variables called *df_report* and *df_region*. Create a new column \"region\" in the *df_report* dataframe by populating it with the correct region in the *df_region* dataframe. If a country does not exist in *df_region*, label it as \"unknown\" in *df_report*. Print *df_report* at the end. (*2 points*)\n",
    "\n",
    "**NB** If you are unable to do the exercise, you can use the file *report_region.csv* in the data folder for the next points."
   ]
  },
  {
   "cell_type": "code",
   "metadata": {
    "ExecuteTime": {
     "end_time": "2024-04-07T12:28:16.492898Z",
     "start_time": "2024-04-07T12:28:16.475386Z"
    }
   },
   "source": [
    "###\n",
    "# YOUR CODE HERE\n",
    "###\n",
    "import pandas as pd\n",
    "\n",
    "df_report: pd.DataFrame = pd.read_csv('./data/report.csv')\n",
    "df_region: pd.DataFrame = pd.read_csv('./data/region.csv')\n",
    "df_region = df_region.rename(columns={'name': 'Country name'})\n",
    "df_report_merged = df_report.merge(df_region[['Country name', 'region']], on='Country name', how='left')\n",
    "df_report_merged = df_report_merged['region'].fillna('unknown')\n",
    "print(df_report_merged)\n",
    "\n",
    "\n"
   ],
   "outputs": [
    {
     "name": "stdout",
     "output_type": "stream",
     "text": [
      "0         Asia\n",
      "1         Asia\n",
      "2         Asia\n",
      "3         Asia\n",
      "4         Asia\n",
      "         ...  \n",
      "1944    Africa\n",
      "1945    Africa\n",
      "1946    Africa\n",
      "1947    Africa\n",
      "1948    Africa\n",
      "Name: region, Length: 1949, dtype: object\n"
     ]
    }
   ],
   "execution_count": 53
  },
  {
   "cell_type": "markdown",
   "metadata": {},
   "source": [
    "2. Calculate and print the median \"Healthy life expectancy at birth\" per region in the year 2019. (*2 point*)"
   ]
  },
  {
   "cell_type": "code",
   "metadata": {
    "ExecuteTime": {
     "end_time": "2024-04-07T12:28:16.531436Z",
     "start_time": "2024-04-07T12:28:16.527154Z"
    }
   },
   "source": [
    "###\n",
    "# YOUR CODE HERE\n",
    "###"
   ],
   "outputs": [],
   "execution_count": 54
  },
  {
   "cell_type": "markdown",
   "metadata": {},
   "source": [
    "3. Create a Pivot table with the median \"Healthy life expectancy at birth\" per region (index) per year (column) and print it. (*1 point*)"
   ]
  },
  {
   "cell_type": "code",
   "metadata": {
    "ExecuteTime": {
     "end_time": "2024-04-07T12:28:16.571091Z",
     "start_time": "2024-04-07T12:28:16.566220Z"
    }
   },
   "source": [
    "###\n",
    "# YOUR CODE HERE\n",
    "###"
   ],
   "outputs": [],
   "execution_count": 55
  },
  {
   "cell_type": "markdown",
   "metadata": {},
   "source": [
    "4. Create a Pivot table (same structure as before) with the maximum \"Log GDP per capita\" per region per year and print it. In the resulting table, also add the overall values across years for each region, with the appropriate pandas method. (*1 point*)"
   ]
  },
  {
   "cell_type": "code",
   "metadata": {
    "ExecuteTime": {
     "end_time": "2024-04-07T12:28:16.617005Z",
     "start_time": "2024-04-07T12:28:16.613392Z"
    }
   },
   "source": [
    "###\n",
    "# YOUR CODE HERE\n",
    "###"
   ],
   "outputs": [],
   "execution_count": 56
  },
  {
   "cell_type": "markdown",
   "metadata": {},
   "source": [
    "5. Find the length of the shortest country name(s) in the dataset and print it, together with the actual countries (print just the unique occurrences!). Then, create a new column ”Short name”, where each country name is cut down to the length of the shortest country name. For instance, if the country with the shortest name is Germany (7 letters, and not true, just an example), ”Switzerland” would become ”Switzer”. (*2 points*)"
   ]
  },
  {
   "cell_type": "code",
   "metadata": {
    "ExecuteTime": {
     "end_time": "2024-04-07T12:28:16.658873Z",
     "start_time": "2024-04-07T12:28:16.645411Z"
    }
   },
   "source": [
    "###\n",
    "# YOUR CODE HERE\n",
    "###"
   ],
   "outputs": [],
   "execution_count": 57
  },
  {
   "cell_type": "markdown",
   "metadata": {},
   "source": [
    "<h3 style=\"text-align:left;\">Exercise 2 - Weather data<span style=\"float: right\">7 points</span></h3>"
   ]
  },
  {
   "cell_type": "markdown",
   "metadata": {},
   "source": [
    "In this exercise, you'll use the *weather.csv* dataset that contains UK weather data. The dataset has columns year and month describing which year and month a specific recording belongs to. (Credit: https://www.kaggle.com/josephw20/uk-met-office-weather-data)\n",
    "\n",
    "1. Import the dataset into a dataframe called *df_weather* and create a new column *datetime*, containing a datetime object for each row describing the year and month of the recording. The day can be set as the 1st of the month. Finally, print the dataframe. (*2 points*)\n",
    "\n",
    "**NB**  If you are unable to do this exercise, you can use the file *weather_datetime.csv* in the data folder for the next points."
   ]
  },
  {
   "cell_type": "code",
   "metadata": {
    "ExecuteTime": {
     "end_time": "2024-04-07T12:28:16.774587Z",
     "start_time": "2024-04-07T12:28:16.677437Z"
    }
   },
   "source": [
    "import pandas as pd\n",
    "\n",
    "df_weather: pd.DataFrame = pd.read_csv('data/weather.csv')\n",
    "datetime_series: pd.Series = pd.to_datetime(arg=df_weather[['year', 'month']].assign(day=1))\n",
    "df_weather.insert(column=\"datetime\", value=datetime_series, loc=len(df_weather.columns))\n",
    "df_weather\n"
   ],
   "outputs": [
    {
     "data": {
      "text/plain": [
       "         year  month  tmax  tmin   af   rain    sun    station   datetime\n",
       "0      1941.0    1.0   NaN   NaN  NaN   74.7    NaN  aberporth 1941-01-01\n",
       "1      1941.0    2.0   NaN   NaN  NaN   69.1    NaN  aberporth 1941-02-01\n",
       "2      1941.0    3.0   NaN   NaN  NaN   76.2    NaN  aberporth 1941-03-01\n",
       "3      1941.0    4.0   NaN   NaN  NaN   33.7    NaN  aberporth 1941-04-01\n",
       "4      1941.0    5.0   NaN   NaN  NaN   51.3    NaN  aberporth 1941-05-01\n",
       "...       ...    ...   ...   ...  ...    ...    ...        ...        ...\n",
       "37044  2020.0    2.0  10.8   4.5  2.0  117.4   63.1  yeovilton 2020-02-01\n",
       "37045  2020.0    3.0  11.5   3.0  6.0   43.4  159.2  yeovilton 2020-03-01\n",
       "37046  2020.0    4.0  17.5   5.3  3.0   39.8  235.0  yeovilton 2020-04-01\n",
       "37047  2020.0    5.0  19.7   6.8  2.0    3.6  305.6  yeovilton 2020-05-01\n",
       "37048  2020.0    6.0  20.5  11.0  0.0  103.0  187.6  yeovilton 2020-06-01\n",
       "\n",
       "[37049 rows x 9 columns]"
      ],
      "text/html": [
       "<div>\n",
       "<style scoped>\n",
       "    .dataframe tbody tr th:only-of-type {\n",
       "        vertical-align: middle;\n",
       "    }\n",
       "\n",
       "    .dataframe tbody tr th {\n",
       "        vertical-align: top;\n",
       "    }\n",
       "\n",
       "    .dataframe thead th {\n",
       "        text-align: right;\n",
       "    }\n",
       "</style>\n",
       "<table border=\"1\" class=\"dataframe\">\n",
       "  <thead>\n",
       "    <tr style=\"text-align: right;\">\n",
       "      <th></th>\n",
       "      <th>year</th>\n",
       "      <th>month</th>\n",
       "      <th>tmax</th>\n",
       "      <th>tmin</th>\n",
       "      <th>af</th>\n",
       "      <th>rain</th>\n",
       "      <th>sun</th>\n",
       "      <th>station</th>\n",
       "      <th>datetime</th>\n",
       "    </tr>\n",
       "  </thead>\n",
       "  <tbody>\n",
       "    <tr>\n",
       "      <th>0</th>\n",
       "      <td>1941.0</td>\n",
       "      <td>1.0</td>\n",
       "      <td>NaN</td>\n",
       "      <td>NaN</td>\n",
       "      <td>NaN</td>\n",
       "      <td>74.7</td>\n",
       "      <td>NaN</td>\n",
       "      <td>aberporth</td>\n",
       "      <td>1941-01-01</td>\n",
       "    </tr>\n",
       "    <tr>\n",
       "      <th>1</th>\n",
       "      <td>1941.0</td>\n",
       "      <td>2.0</td>\n",
       "      <td>NaN</td>\n",
       "      <td>NaN</td>\n",
       "      <td>NaN</td>\n",
       "      <td>69.1</td>\n",
       "      <td>NaN</td>\n",
       "      <td>aberporth</td>\n",
       "      <td>1941-02-01</td>\n",
       "    </tr>\n",
       "    <tr>\n",
       "      <th>2</th>\n",
       "      <td>1941.0</td>\n",
       "      <td>3.0</td>\n",
       "      <td>NaN</td>\n",
       "      <td>NaN</td>\n",
       "      <td>NaN</td>\n",
       "      <td>76.2</td>\n",
       "      <td>NaN</td>\n",
       "      <td>aberporth</td>\n",
       "      <td>1941-03-01</td>\n",
       "    </tr>\n",
       "    <tr>\n",
       "      <th>3</th>\n",
       "      <td>1941.0</td>\n",
       "      <td>4.0</td>\n",
       "      <td>NaN</td>\n",
       "      <td>NaN</td>\n",
       "      <td>NaN</td>\n",
       "      <td>33.7</td>\n",
       "      <td>NaN</td>\n",
       "      <td>aberporth</td>\n",
       "      <td>1941-04-01</td>\n",
       "    </tr>\n",
       "    <tr>\n",
       "      <th>4</th>\n",
       "      <td>1941.0</td>\n",
       "      <td>5.0</td>\n",
       "      <td>NaN</td>\n",
       "      <td>NaN</td>\n",
       "      <td>NaN</td>\n",
       "      <td>51.3</td>\n",
       "      <td>NaN</td>\n",
       "      <td>aberporth</td>\n",
       "      <td>1941-05-01</td>\n",
       "    </tr>\n",
       "    <tr>\n",
       "      <th>...</th>\n",
       "      <td>...</td>\n",
       "      <td>...</td>\n",
       "      <td>...</td>\n",
       "      <td>...</td>\n",
       "      <td>...</td>\n",
       "      <td>...</td>\n",
       "      <td>...</td>\n",
       "      <td>...</td>\n",
       "      <td>...</td>\n",
       "    </tr>\n",
       "    <tr>\n",
       "      <th>37044</th>\n",
       "      <td>2020.0</td>\n",
       "      <td>2.0</td>\n",
       "      <td>10.8</td>\n",
       "      <td>4.5</td>\n",
       "      <td>2.0</td>\n",
       "      <td>117.4</td>\n",
       "      <td>63.1</td>\n",
       "      <td>yeovilton</td>\n",
       "      <td>2020-02-01</td>\n",
       "    </tr>\n",
       "    <tr>\n",
       "      <th>37045</th>\n",
       "      <td>2020.0</td>\n",
       "      <td>3.0</td>\n",
       "      <td>11.5</td>\n",
       "      <td>3.0</td>\n",
       "      <td>6.0</td>\n",
       "      <td>43.4</td>\n",
       "      <td>159.2</td>\n",
       "      <td>yeovilton</td>\n",
       "      <td>2020-03-01</td>\n",
       "    </tr>\n",
       "    <tr>\n",
       "      <th>37046</th>\n",
       "      <td>2020.0</td>\n",
       "      <td>4.0</td>\n",
       "      <td>17.5</td>\n",
       "      <td>5.3</td>\n",
       "      <td>3.0</td>\n",
       "      <td>39.8</td>\n",
       "      <td>235.0</td>\n",
       "      <td>yeovilton</td>\n",
       "      <td>2020-04-01</td>\n",
       "    </tr>\n",
       "    <tr>\n",
       "      <th>37047</th>\n",
       "      <td>2020.0</td>\n",
       "      <td>5.0</td>\n",
       "      <td>19.7</td>\n",
       "      <td>6.8</td>\n",
       "      <td>2.0</td>\n",
       "      <td>3.6</td>\n",
       "      <td>305.6</td>\n",
       "      <td>yeovilton</td>\n",
       "      <td>2020-05-01</td>\n",
       "    </tr>\n",
       "    <tr>\n",
       "      <th>37048</th>\n",
       "      <td>2020.0</td>\n",
       "      <td>6.0</td>\n",
       "      <td>20.5</td>\n",
       "      <td>11.0</td>\n",
       "      <td>0.0</td>\n",
       "      <td>103.0</td>\n",
       "      <td>187.6</td>\n",
       "      <td>yeovilton</td>\n",
       "      <td>2020-06-01</td>\n",
       "    </tr>\n",
       "  </tbody>\n",
       "</table>\n",
       "<p>37049 rows × 9 columns</p>\n",
       "</div>"
      ]
     },
     "execution_count": 58,
     "metadata": {},
     "output_type": "execute_result"
    }
   ],
   "execution_count": 58
  },
  {
   "cell_type": "markdown",
   "metadata": {},
   "source": [
    "2. Write a function *mean_rainfall* that takes in input the dataframe, the name of a weather station, the upper and lower bounds of a time interval and computes the mean *rain* for the time period between (and including) the upper and lower bound. Make the station name not case-sensitive. Use the inputs as in the example below (i.e. upper and lower bounds as strings) (*3 points*)\n",
    "\n",
    "```python \n",
    "mean_rainfall(df_weather, \"Manston\", \"january 2019\", \"march 2020\")  # returns 49.52\n",
    "mean_rainfall(df_weather, \"manston\", \"january 2019\", \"march 2020\")  # also returns 49.52\n",
    "```"
   ]
  },
  {
   "cell_type": "code",
   "metadata": {
    "ExecuteTime": {
     "end_time": "2024-04-07T13:43:59.725323Z",
     "start_time": "2024-04-07T13:43:59.654006Z"
    }
   },
   "source": [
    "# factored out the selection of the rows of the specified station and timeframe. made this a separate method for later reuse in 2.3\n",
    "def subframe_of_station_and_timeframe(df: pd.DataFrame, station: str, start: str, end: str, ) -> pd.DataFrame:\n",
    "    assert df['station'].str.contains(\n",
    "        '^[a-z]+$').all()  # assert that all station names only contain lower case letters.\n",
    "    lower_station: str = station.lower()  # make the given station name lowercase, so it matches the station names in the df case-insensitively, since they are all lowercase.\n",
    "    station_group: pd.DataFrame = df.groupby('station').get_group(\n",
    "        lower_station)  #get the subframe of all the data for the specified station\n",
    "\n",
    "    # convert both start and end to pandas object to compare them\n",
    "    dt_start: pd.Timestamp = pd.to_datetime(start)\n",
    "    dt_end: pd.Timestamp = pd.to_datetime(end)\n",
    "\n",
    "    station_timeframe: pd.DataFrame = station_group[\n",
    "        (station_group['datetime'] >= dt_start) & (\n",
    "                station_group[\n",
    "                    'datetime'] <= dt_end)]  # get rows in the timeframe between and including the start and end time. \n",
    "    return station_timeframe\n",
    "\n",
    "\n",
    "def mean_rainfall(df: pd.DataFrame, station: str, start: str, end: str, ) -> float:\n",
    "    station_timeframe: pd.DataFrame = subframe_of_station_and_timeframe(df, station, start, end)\n",
    "    return station_timeframe['rain'].mean()\n",
    "\n",
    "\n",
    "print(mean_rainfall(df_weather, \"Manston\", \"january 2019\", \"march 2020\"))\n",
    "print(mean_rainfall(df_weather, \"manston\", \"january 2019\", \"march 2020\"))\n"
   ],
   "outputs": [
    {
     "name": "stdout",
     "output_type": "stream",
     "text": [
      "49.52\n",
      "49.52\n"
     ]
    }
   ],
   "execution_count": 94
  },
  {
   "cell_type": "markdown",
   "metadata": {},
   "source": [
    "3. Expand the function *mean_rainfall* of the previous point, such that it also returns the number of days since the maximum rainfall in the time-period selected and the current date (use 28th of March as reference) (*2 points*)\n",
    "\n",
    "```python \n",
    "mean_rainfall(df_weather, \"Manston\", \"january 2019\", \"march 2020\")  # returns 49.52, 1640\n",
    "```"
   ]
  },
  {
   "metadata": {},
   "cell_type": "markdown",
   "source": ""
  },
  {
   "cell_type": "code",
   "metadata": {
    "ExecuteTime": {
     "end_time": "2024-04-07T14:33:02.949601Z",
     "start_time": "2024-04-07T14:33:02.905887Z"
    }
   },
   "source": [
    "def mean_rainfall(df: pd.DataFrame, station: str, start: str, end: str, ) -> (float, int):\n",
    "    station_timeframe: pd.DataFrame = subframe_of_station_and_timeframe(df, station, start, end)\n",
    "    mean_rain: float = station_timeframe['rain'].mean()\n",
    "    max_rain_id = station_timeframe['rain'].idxmax() # id of the row with the max amount of rain\n",
    "    max_rain_date: pd.Timestamp = station_timeframe.loc[max_rain_id]['datetime'] #get the row of max rainfall by id and then extract the date\n",
    "    dt_now = pd.Timestamp = pd.to_datetime('28th of March 2024') # day referenced as 'now'\n",
    "    since_max_rain: pd.Timedelta = dt_now - max_rain_date\n",
    "    return mean_rain, since_max_rain.days\n",
    "    \n",
    "mean_rainfall(df_weather, \"Manston\", \"january 2019\", \"march 2020\")\n"
   ],
   "outputs": [
    {
     "data": {
      "text/plain": [
       "(49.52, 1640)"
      ]
     },
     "execution_count": 113,
     "metadata": {},
     "output_type": "execute_result"
    }
   ],
   "execution_count": 113
  }
 ],
 "metadata": {
  "kernelspec": {
   "display_name": "dash",
   "language": "python",
   "name": "python3"
  },
  "language_info": {
   "codemirror_mode": {
    "name": "ipython",
    "version": 3
   },
   "file_extension": ".py",
   "mimetype": "text/x-python",
   "name": "python",
   "nbconvert_exporter": "python",
   "pygments_lexer": "ipython3",
   "version": "3.11.7"
  }
 },
 "nbformat": 4,
 "nbformat_minor": 2
}
