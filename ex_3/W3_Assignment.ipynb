{
 "cells": [
  {
   "cell_type": "markdown",
   "metadata": {},
   "source": [
    "<h2><center>Week 3 - Assignment</center></h2>\n",
    "<h3><center>Programming for Data Science 2024</center></h3>"
   ]
  },
  {
   "cell_type": "markdown",
   "metadata": {},
   "source": [
    "Exercises for the topics covered in the third lecture.\n",
    "\n",
    "The exercise will be marked as passed if you get **at least 10/15** points.\n",
    "\n",
    "Exercises must be handed in via **ILIAS** (Homework assignments). Deliver your submission as a compressed file (zip) containing one .py or .ipynb file with all exercises. The name of both the .zip and the .py/.ipynb file must be *SurnameName* of the two members of the group. Example: Riccardo Cusinato + Athina Tzovara = *CusinatoRiccardo_TzovaraAthina.zip* .\n",
    "\n",
    "It's important to use comments to explain your code and show that you're able to take ownership of the exercises and discuss them.\n",
    "\n",
    "You are not expected to collaborate outside of the group on exercises and submitting other groups’ code as your own will result in 0 points.\n",
    "\n",
    "For questions contact: *riccardo.cusinato@unibe.ch* with the subject: *Programming for Data Science 2024*.\n",
    "\n",
    "**Deadline: 14:00, March 14, 2024.**"
   ]
  },
  {
   "cell_type": "markdown",
   "metadata": {},
   "source": [
    "<h3 style=\"text-align:left;\">Exercise 1 - Error investigation<span style=\"float: right\">2 points</span></h3>"
   ]
  },
  {
   "cell_type": "markdown",
   "metadata": {},
   "source": [
    "The code below squares and sums the numbers in the array *arr*, and holds the result in the variable *squared_sum*, which should be 1135. However, that is not the case. Correct the code and explain in a comment , clearly and amply, what was wrong."
   ]
  },
  {
   "cell_type": "code",
   "execution_count": 20,
   "metadata": {
    "ExecuteTime": {
     "end_time": "2024-03-14T12:13:58.094319Z",
     "start_time": "2024-03-14T12:13:58.089806Z"
    }
   },
   "outputs": [
    {
     "data": {
      "text/plain": "1135"
     },
     "execution_count": 20,
     "metadata": {},
     "output_type": "execute_result"
    }
   ],
   "source": [
    "import numpy as np\n",
    "\n",
    "arr = np.array([13, 14, 15, 16, 17], dtype=np.int16)\n",
    "squared_sum = np.sum(arr ** 2)\n",
    "squared_sum"
   ]
  },
  {
   "cell_type": "code",
   "execution_count": 21,
   "metadata": {
    "ExecuteTime": {
     "end_time": "2024-03-14T12:13:58.147953Z",
     "start_time": "2024-03-14T12:13:58.142889Z"
    }
   },
   "outputs": [
    {
     "name": "stdout",
     "output_type": "stream",
     "text": [
      "Machine parameters for int8\n",
      "---------------------------------------------------------------\n",
      "min = -128\n",
      "max = 127\n",
      "---------------------------------------------------------------\n",
      "\n",
      "Machine parameters for int16\n",
      "---------------------------------------------------------------\n",
      "min = -32768\n",
      "max = 32767\n",
      "---------------------------------------------------------------\n"
     ]
    }
   ],
   "source": [
    "###\n",
    "# Correction: changed dtype from int8 to int16 (min = −32'768, max = 32'767 )\n",
    "# In Numpy integers have fixed size. The datatype int8 can only store 8 bits. 8 bits can only store integers from -128 \n",
    "# until 127. So 1135 is to big to be stored in this datatype and it will lead to an overflow.\n",
    "###\n",
    "print(np.iinfo(np.int8))\n",
    "print(np.iinfo(np.int16))\n"
   ]
  },
  {
   "cell_type": "markdown",
   "metadata": {},
   "source": [
    "<h3 style=\"text-align:left;\">Exercise 2 - Vacation selector<span style=\"float: right\">3 points</span></h3>"
   ]
  },
  {
   "cell_type": "markdown",
   "metadata": {},
   "source": [
    "The code below defines five vacation destinations (*locations*) and four attributes for each (*attributes*). Each row describes one destination, and the columns represent scores on the factors scenery, activities, food, and nightlife.\n",
    "\n",
    "Write a function *vacation_advisor* that asks the user whether they find each of the attributes important or not, and suggests the best vacation spot based on these preferences.\n",
    "\n",
    "Use techniques from the third lecture to solve the exercise.\n",
    "\n",
    "Example interaction:\n",
    "```python\n",
    "Is scenery important to you [y/n]?    > y\n",
    "Is activities important to you [y/n]? > y\n",
    "Is food important to you [y/n]?       > n\n",
    "Is nightlife important to you [y/n]?  > n\n",
    "Based on your preferences, the best destination is Australia\n",
    "```"
   ]
  },
  {
   "cell_type": "code",
   "execution_count": 22,
   "metadata": {
    "ExecuteTime": {
     "end_time": "2024-03-14T12:13:58.154441Z",
     "start_time": "2024-03-14T12:13:58.150101Z"
    }
   },
   "outputs": [],
   "source": [
    "# List of destinations\n",
    "locations = np.array([\"Hawaii\", \"Thailand\", \"Italy\", \"Australia\", \"Japan\"])\n",
    "\n",
    "# List of attributes for each destination. Each column is an attribute. Each row a destination.\n",
    "attributes = np.array([\n",
    "    [8, 8, 7, 6],\n",
    "    [7, 9, 8, 7],\n",
    "    [8, 6, 9, 7],\n",
    "    [9, 8, 8, 6],\n",
    "    [7, 9, 7, 8]\n",
    "])\n",
    "\n",
    "# Declare attribute names and initialize boolean array with preferences\n",
    "attribute_names = ['scenery', 'activities', 'food', 'nightlife']\n"
   ]
  },
  {
   "cell_type": "code",
   "execution_count": 23,
   "metadata": {
    "ExecuteTime": {
     "end_time": "2024-03-14T12:14:00.107991Z",
     "start_time": "2024-03-14T12:13:58.161923Z"
    }
   },
   "outputs": [
    {
     "name": "stderr",
     "output_type": "stream",
     "text": [
      "C:\\Users\\lukik\\AppData\\Local\\Temp\\ipykernel_6568\\2925590796.py:10: RuntimeWarning: Mean of empty slice.\n",
      "  meanAttr = attributes.mean(1) # compute the arithmetic mean along axis 1\n"
     ]
    },
    {
     "ename": "IndexError",
     "evalue": "index 0 is out of bounds for axis 0 with size 0",
     "output_type": "error",
     "traceback": [
      "\u001B[1;31m---------------------------------------------------------------------------\u001B[0m",
      "\u001B[1;31mIndexError\u001B[0m                                Traceback (most recent call last)",
      "Cell \u001B[1;32mIn[23], line 16\u001B[0m\n\u001B[0;32m     12\u001B[0m     destination \u001B[38;5;241m=\u001B[39m locations[index[\u001B[38;5;241m0\u001B[39m][\u001B[38;5;241m0\u001B[39m]] \u001B[38;5;66;03m# get corresponding location\u001B[39;00m\n\u001B[0;32m     13\u001B[0m     \u001B[38;5;28;01mreturn\u001B[39;00m \u001B[38;5;124m\"\u001B[39m\u001B[38;5;124mBased on your preferences, the best destination is \u001B[39m\u001B[38;5;124m\"\u001B[39m \u001B[38;5;241m+\u001B[39m destination\n\u001B[1;32m---> 16\u001B[0m \u001B[43mvacation_advisor\u001B[49m\u001B[43m(\u001B[49m\u001B[43mattributes\u001B[49m\u001B[43m,\u001B[49m\u001B[43m \u001B[49m\u001B[43mattribute_names\u001B[49m\u001B[43m,\u001B[49m\u001B[43m \u001B[49m\u001B[43mlocations\u001B[49m\u001B[43m)\u001B[49m\n",
      "Cell \u001B[1;32mIn[23], line 12\u001B[0m, in \u001B[0;36mvacation_advisor\u001B[1;34m(attributes, attribute_names, locations)\u001B[0m\n\u001B[0;32m     10\u001B[0m meanAttr \u001B[38;5;241m=\u001B[39m attributes\u001B[38;5;241m.\u001B[39mmean(\u001B[38;5;241m1\u001B[39m) \u001B[38;5;66;03m# compute the arithmetic mean along axis 1 \u001B[39;00m\n\u001B[0;32m     11\u001B[0m index \u001B[38;5;241m=\u001B[39m np\u001B[38;5;241m.\u001B[39mwhere(meanAttr \u001B[38;5;241m==\u001B[39m np\u001B[38;5;241m.\u001B[39mmax(meanAttr)) \u001B[38;5;66;03m# get index of max mean\u001B[39;00m\n\u001B[1;32m---> 12\u001B[0m destination \u001B[38;5;241m=\u001B[39m locations[\u001B[43mindex\u001B[49m\u001B[43m[\u001B[49m\u001B[38;5;241;43m0\u001B[39;49m\u001B[43m]\u001B[49m\u001B[43m[\u001B[49m\u001B[38;5;241;43m0\u001B[39;49m\u001B[43m]\u001B[49m] \u001B[38;5;66;03m# get corresponding location\u001B[39;00m\n\u001B[0;32m     13\u001B[0m \u001B[38;5;28;01mreturn\u001B[39;00m \u001B[38;5;124m\"\u001B[39m\u001B[38;5;124mBased on your preferences, the best destination is \u001B[39m\u001B[38;5;124m\"\u001B[39m \u001B[38;5;241m+\u001B[39m destination\n",
      "\u001B[1;31mIndexError\u001B[0m: index 0 is out of bounds for axis 0 with size 0"
     ]
    }
   ],
   "source": [
    "def vacation_advisor(attributes, attribute_names, locations):\n",
    "    # new empty array for answers \n",
    "    answer = np.array([])\n",
    "    # filter preferences\n",
    "    for a in attribute_names:\n",
    "        question = input(\"Is \" + a + \" important to you [y/n]?\")\n",
    "        answer = np.append(answer, question) #add answers to array \n",
    "       \n",
    "    attributes = attributes[:,answer == 'y' ]  # filters the attribute array acording to the given answer\n",
    "    meanAttr = attributes.mean(1) # compute the arithmetic mean along axis 1 \n",
    "    index = np.where(meanAttr == np.max(meanAttr)) # get index of max mean\n",
    "    destination = locations[index[0][0]] # get corresponding location\n",
    "    return \"Based on your preferences, the best destination is \" + destination\n",
    "    \n",
    "\n",
    "vacation_advisor(attributes, attribute_names, locations)\n"
   ]
  },
  {
   "cell_type": "markdown",
   "metadata": {},
   "source": [
    "<h3 style=\"text-align:left;\">Exercise 3 - Indexing<span style=\"float: right\">3 points</span></h3>"
   ]
  },
  {
   "cell_type": "markdown",
   "metadata": {},
   "source": [
    "You have two arrays of the same length: temperature *temp*, and humidity, *rh*. Write a program that:\n",
    "1) Substitutes the values of *temp* for which the corresponding values of *rh* is less than 0.3 with *np.nan*.\n",
    "2) On this new temperature array, calculate the mean value (do **not** calculate it on the original array).\n",
    "\n",
    "As an example:\n",
    "\n",
    "```python\n",
    "temp = [70, 80, 90]\n",
    "rh = [0.5, 0.2, 0.6]\n",
    "\n",
    "temp_nan --> [70, np.nan, 90]\n",
    "temp_avg --> 80\n",
    "```"
   ]
  },
  {
   "cell_type": "code",
   "execution_count": null,
   "metadata": {
    "ExecuteTime": {
     "start_time": "2024-03-14T12:14:00.109037Z"
    }
   },
   "outputs": [],
   "source": [
    "# Generate some surrogate data\n",
    "\n",
    "np.random.seed(29041996)  # Make sure we all have the same data\n",
    "temp = 20 * np.cos(np.linspace(0, 2 * np.pi, 100)) + 80 + 2 * np.random.randn(100)\n",
    "rh = np.abs(0.1 * np.cos(np.linspace(0, 4 * np.pi, 100))\n",
    "            + 0.3 + 0.05 * np.random.randn(100))"
   ]
  },
  {
   "cell_type": "code",
   "execution_count": null,
   "metadata": {
    "ExecuteTime": {
     "start_time": "2024-03-14T12:14:00.110081Z"
    }
   },
   "outputs": [],
   "source": [
    "#print(temp)\n",
    "rh_mask = rh < 0.3  #creates a boolean mask where element at index i is true if rn[i] is smaller than 0.3\n",
    "temp_nan = temp.copy()  # copy temp array to avoid changing original array in case we need the original data\n",
    "temp_nan[rh_mask] = np.nan  # replace every value with np.nan if the corresponding index in rh is < 0.3\n",
    "\n",
    "np.nanmean(temp_nan)  # calculate the mean, nanmean() is used to ignore the nan values, using mean() would return nan"
   ]
  },
  {
   "cell_type": "markdown",
   "metadata": {},
   "source": [
    "<h3 style=\"text-align:left;\">Exercise 4 - Base converter<span style=\"float: right\">2 points</span></h3>"
   ]
  },
  {
   "cell_type": "markdown",
   "metadata": {},
   "source": [
    "Write a function *int_to_bin* that takes a positive integer as input and returns the binary equivalent of that integer.\n",
    "\n",
    "You can **not** use built-in methods such as *bin()* in your solution."
   ]
  },
  {
   "cell_type": "code",
   "execution_count": null,
   "metadata": {
    "ExecuteTime": {
     "start_time": "2024-03-14T12:14:00.111194Z"
    }
   },
   "outputs": [],
   "source": [
    "def int_to_bin(number: int) -> str:\n",
    "    \"\"\"Converts a positive integer to its binary representation. number has to be a positive integer.\n",
    "    Returns a string\"\"\"\n",
    "    if number < 0:  # assert the given number is positive\n",
    "        raise Exception('provided number is not positive')\n",
    "\n",
    "    bin_rep: str = '0b'  # start the binary representation with 0b, which signals the number is in binary\n",
    "    if number == 0:  # guard clause if the number is 0, since this would yield an incorrect result otherwise\n",
    "        bin_rep += '0'\n",
    "        return bin_rep\n",
    "\n",
    "    digits: int = bin_digits(number)  # calculate how many digits the binary representation will have\n",
    "\n",
    "    for position in range(digits - 1, -1, -1):\n",
    "        # for each digit of the binary representation, check if the digit will be 0 or 1.\n",
    "        position_value: int = 2 ** position\n",
    "        bin_rep += str(number // position_value)\n",
    "        # add '0' or '1' to the binary representation based on if remaining number is larger or equal to position_value\n",
    "        number = number % position_value  # calculate the remainder which has to be converted to binary\n",
    "    return bin_rep\n",
    "\n",
    "\n",
    "def bin_digits(number: int) -> int:\n",
    "    \"\"\"Calculates how many digits the binary representation will have. Is equivalent to floor(log2(number)), but without using builtin methods.\"\"\"\n",
    "    position: int = 0\n",
    "    while number >= 2 ** position:\n",
    "        position += 1\n",
    "    return position\n",
    "\n",
    "# test to see if conversion is correct\n",
    "test = 17\n",
    "print(\"tested number: \"+test)\n",
    "print(\"int_to_bin: \" + int_to_bin(test))\n",
    "print(\"expected:   \" + bin(test))"
   ]
  },
  {
   "cell_type": "markdown",
   "metadata": {},
   "source": [
    "<h3 style=\"text-align:left;\">Exercise 5 - Broadcasting<span style=\"float: right\">2 points</span></h3>"
   ]
  },
  {
   "cell_type": "markdown",
   "metadata": {},
   "source": [
    "Reshape *a* so it is possible to multiply *a* and *b*, and explain why you had to reshape *a* to be able to multiply the two arrays."
   ]
  },
  {
   "cell_type": "code",
   "execution_count": null,
   "metadata": {
    "ExecuteTime": {
     "start_time": "2024-03-14T12:14:00.112253Z"
    }
   },
   "outputs": [],
   "source": [
    "import numpy as np\n",
    "\n",
    "a = np.array([[1, 2, 3], [4, 5, 6]])\n",
    "b = np.array([2, 3])\n",
    "\n",
    "b= np.reshape(b, (2, 1)) # change the shape from (2,) to (2,1)\n",
    "a*b"
   ]
  },
  {
   "cell_type": "markdown",
   "source": [
    "in numpy arrays, the shape (2,) and (2,1) are not identical. An array with shape (2,) is viewed as a list, while an array with shape (2,1) is viewed as a 2x1 matrix. So while the data is identical, the way it is interpreted by numpy is not.\n",
    "Since the two arrays dont have the same shape, the broadcasting rules are applied.\n",
    "\n",
    "Before reshaping: the second rule doesent apply since in no dimension has either of the arrays the size 1.\n",
    "Therefore, the third rule applies, and an error ist thrown.\n",
    "\n",
    "After reshaping: array b has now size 1 in the second dimension, and the second rule can apply, so the array b with shape (2,1) is stretched to shape (2,3), so the shapes of the two arrays are now identical and can be multiplied element wise."
   ],
   "metadata": {
    "collapsed": false
   }
  },
  {
   "cell_type": "markdown",
   "metadata": {},
   "source": [
    "<h3 style=\"text-align:left;\">Exercise 6 - Moving average<span style=\"float: right\">3 points</span></h3>"
   ]
  },
  {
   "cell_type": "markdown",
   "metadata": {},
   "source": [
    "Given the array of values, *a*, we can calculate the moving average by averaging nearby values and repeating the procedure sliding along the array. Here's an example of a 3-point moving average (ignoring the edges), with a for loop:"
   ]
  },
  {
   "cell_type": "code",
   "execution_count": null,
   "metadata": {
    "ExecuteTime": {
     "start_time": "2024-03-14T12:14:00.113316Z"
    }
   },
   "outputs": [],
   "source": [
    "a = np.round(30 + np.random.randn(20) * 2, 1)\n",
    "print(a)\n",
    "\n",
    "# Moving average\n",
    "a_avg = np.zeros_like(a)\n",
    "# We're just ignoring the edge effects here\n",
    "for i in range(1, len(a) - 1):\n",
    "    sub = a[i - 1:i + 2]\n",
    "    a_avg[i] = sub.mean()\n",
    "# For the first and last point, we use the original values.\n",
    "a_avg[[0, -1]] = a[[0, -1]]\n",
    "print(a_avg)"
   ]
  },
  {
   "cell_type": "markdown",
   "metadata": {},
   "source": [
    "Write a function *mov_avg* that takes an array in input and returns its 3-point moving average. You **have to use broadcasting** to compute the moving average. As in the example, use the original array values at the borders."
   ]
  },
  {
   "cell_type": "code",
   "outputs": [],
   "source": [
    "\n",
    "def mov_avg(a):\n",
    "    # define array of the same size \n",
    "    a_avg = np.zeros_like(a)\n",
    "    # First an last points remain the same\n",
    "    a_avg[[0,-1]] = a[[0,1]]\n",
    "    # define the array from index 1 until the second last index \n",
    "    # we can split a such that it is devided in 3 array \n",
    "    a_avg[1:-1] = (a[:-2] + a[1:-1] + a[2:])/3\n",
    "   \n",
    "mov_avg(a)"
   ],
   "metadata": {
    "collapsed": false,
    "ExecuteTime": {
     "end_time": "2024-03-14T12:14:00.120057Z",
     "start_time": "2024-03-14T12:14:00.114398Z"
    }
   },
   "execution_count": 24
  },
  {
   "cell_type": "markdown",
   "source": [
    "Example for the Code: \n",
    "a = [1,2,3,4,5] <br>\n",
    "a[:-2] = [1,2,3] <br>\n",
    "a[1:-1] = [2,3,4] <br>\n",
    "a[2:] = [3,4,5] <br>\n",
    "Broadcasting : ([1,2,3] + [2,3,4] + [3,4,5])/3 = ([1+2+3, 2+3+4, 3+4+5])/3 this will be the entries for index 1 to 3 \n",
    "so for example index 3: avg[3] = (3+4+5)/3 "
   ],
   "metadata": {
    "collapsed": false
   }
  },
  {
   "cell_type": "markdown",
   "source": [],
   "metadata": {
    "collapsed": false
   }
  },
  {
   "cell_type": "markdown",
   "source": [],
   "metadata": {
    "collapsed": false
   }
  }
 ],
 "metadata": {
  "kernelspec": {
   "display_name": "dash",
   "language": "python",
   "name": "python3"
  },
  "language_info": {
   "codemirror_mode": {
    "name": "ipython",
    "version": 3
   },
   "file_extension": ".py",
   "mimetype": "text/x-python",
   "name": "python",
   "nbconvert_exporter": "python",
   "pygments_lexer": "ipython3",
   "version": "3.8.0"
  }
 },
 "nbformat": 4,
 "nbformat_minor": 2
}
