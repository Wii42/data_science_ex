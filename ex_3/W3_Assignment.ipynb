{
 "cells": [
  {
   "cell_type": "markdown",
   "metadata": {},
   "source": [
    "<h2><center>Week 3 - Assignment</center></h2>\n",
    "<h3><center>Programming for Data Science 2024</center></h3>"
   ]
  },
  {
   "cell_type": "markdown",
   "metadata": {},
   "source": [
    "Exercises for the topics covered in the third lecture.\n",
    "\n",
    "The exercise will be marked as passed if you get **at least 10/15** points.\n",
    "\n",
    "Exercises must be handed in via **ILIAS** (Homework assignments). Deliver your submission as a compressed file (zip) containing one .py or .ipynb file with all exercises. The name of both the .zip and the .py/.ipynb file must be *SurnameName* of the two members of the group. Example: Riccardo Cusinato + Athina Tzovara = *CusinatoRiccardo_TzovaraAthina.zip* .\n",
    "\n",
    "It's important to use comments to explain your code and show that you're able to take ownership of the exercises and discuss them.\n",
    "\n",
    "You are not expected to collaborate outside of the group on exercises and submitting other groups’ code as your own will result in 0 points.\n",
    "\n",
    "For questions contact: *riccardo.cusinato@unibe.ch* with the subject: *Programming for Data Science 2024*.\n",
    "\n",
    "**Deadline: 14:00, March 14, 2024.**"
   ]
  },
  {
   "cell_type": "markdown",
   "metadata": {},
   "source": [
    "<h3 style=\"text-align:left;\">Exercise 1 - Error investigation<span style=\"float: right\">2 points</span></h3>"
   ]
  },
  {
   "cell_type": "markdown",
   "metadata": {},
   "source": [
    "The code below squares and sums the numbers in the array *arr*, and holds the result in the variable *squared_sum*, which should be 1135. However, that is not the case. Correct the code and explain in a comment , clearly and amply, what was wrong."
   ]
  },
  {
   "cell_type": "code",
   "execution_count": 74,
   "metadata": {
    "ExecuteTime": {
     "end_time": "2024-03-07T19:16:59.319216Z",
     "start_time": "2024-03-07T19:16:59.306190Z"
    }
   },
   "outputs": [
    {
     "data": {
      "text/plain": "1135"
     },
     "execution_count": 74,
     "metadata": {},
     "output_type": "execute_result"
    }
   ],
   "source": [
    "import numpy as np\n",
    "\n",
    "arr = np.array([13, 14, 15, 16, 17], dtype=np.int16)\n",
    "squared_sum = np.sum(arr ** 2)\n",
    "squared_sum"
   ]
  },
  {
   "cell_type": "code",
   "execution_count": 75,
   "metadata": {
    "ExecuteTime": {
     "end_time": "2024-03-07T19:16:59.381731Z",
     "start_time": "2024-03-07T19:16:59.365728Z"
    }
   },
   "outputs": [
    {
     "name": "stdout",
     "output_type": "stream",
     "text": [
      "Machine parameters for int8\n",
      "---------------------------------------------------------------\n",
      "min = -128\n",
      "max = 127\n",
      "---------------------------------------------------------------\n",
      "\n",
      "Machine parameters for int16\n",
      "---------------------------------------------------------------\n",
      "min = -32768\n",
      "max = 32767\n",
      "---------------------------------------------------------------\n"
     ]
    }
   ],
   "source": [
    "###\n",
    "# Correction: changed dtype from int8 to int16 (min = −32'768, max = 32'767 )\n",
    "# In Numpy integers have fixed size. The datatype int8 can only store 8 bits. 8 bits can only store integers from -128 \n",
    "# until 127. So 1135 is to big to be stored in this datatype and it will lead to an overflow.\n",
    "###\n",
    "print(np.iinfo(np.int8))\n",
    "print(np.iinfo(np.int16))\n"
   ]
  },
  {
   "cell_type": "markdown",
   "metadata": {},
   "source": [
    "<h3 style=\"text-align:left;\">Exercise 2 - Vacation selector<span style=\"float: right\">3 points</span></h3>"
   ]
  },
  {
   "cell_type": "markdown",
   "metadata": {},
   "source": [
    "The code below defines five vacation destinations (*locations*) and four attributes for each (*attributes*). Each row describes one destination, and the columns represent scores on the factors scenery, activities, food, and nightlife.\n",
    "\n",
    "Write a function *vacation_advisor* that asks the user whether they find each of the attributes important or not, and suggests the best vacation spot based on these preferences.\n",
    "\n",
    "Use techniques from the third lecture to solve the exercise.\n",
    "\n",
    "Example interaction:\n",
    "```python\n",
    "Is scenery important to you [y/n]?    > y\n",
    "Is activities important to you [y/n]? > y\n",
    "Is food important to you [y/n]?       > n\n",
    "Is nightlife important to you [y/n]?  > n\n",
    "Based on your preferences, the best destination is Australia\n",
    "```"
   ]
  },
  {
   "cell_type": "code",
   "execution_count": 76,
   "metadata": {
    "ExecuteTime": {
     "end_time": "2024-03-07T19:16:59.397730Z",
     "start_time": "2024-03-07T19:16:59.384733Z"
    }
   },
   "outputs": [],
   "source": [
    "# List of destinations\n",
    "locations = np.array([\"Hawaii\", \"Thailand\", \"Italy\", \"Australia\", \"Japan\"])\n",
    "\n",
    "# List of attributes for each destination. Each column is an attribute. Each row a destination.\n",
    "attributes = np.array([\n",
    "    [8, 8, 7, 6],\n",
    "    [7, 9, 8, 7],\n",
    "    [8, 6, 9, 7],\n",
    "    [9, 8, 8, 6],\n",
    "    [7, 9, 7, 8]\n",
    "])\n",
    "\n",
    "# Declare attribute names and initialize boolean array with preferences\n",
    "attribute_names = ['scenery', 'activities', 'food', 'nightlife']\n"
   ]
  },
  {
   "cell_type": "code",
   "execution_count": 77,
   "metadata": {
    "ExecuteTime": {
     "end_time": "2024-03-07T19:16:59.413731Z",
     "start_time": "2024-03-07T19:16:59.399727Z"
    }
   },
   "outputs": [],
   "source": [
    "###\n",
    "# YOUR CODE GOES HERE\n",
    "###"
   ]
  },
  {
   "cell_type": "markdown",
   "metadata": {},
   "source": [
    "<h3 style=\"text-align:left;\">Exercise 3 - Indexing<span style=\"float: right\">3 points</span></h3>"
   ]
  },
  {
   "cell_type": "markdown",
   "metadata": {},
   "source": [
    "You have two arrays of the same length: temperature *temp*, and humidity, *rh*. Write a program that:\n",
    "1) Substitutes the values of *temp* for which the corresponding values of *rh* is less than 0.3 with *np.nan*.\n",
    "2) On this new temperature array, calculate the mean value (do **not** calculate it on the original array).\n",
    "\n",
    "As an example:\n",
    "\n",
    "```python\n",
    "temp = [70, 80, 90]\n",
    "rh = [0.5, 0.2, 0.6]\n",
    "\n",
    "temp_nan --> [70, np.nan, 90]\n",
    "temp_avg --> 80\n",
    "```"
   ]
  },
  {
   "cell_type": "code",
   "execution_count": 78,
   "metadata": {
    "ExecuteTime": {
     "end_time": "2024-03-07T19:16:59.445269Z",
     "start_time": "2024-03-07T19:16:59.432748Z"
    }
   },
   "outputs": [],
   "source": [
    "# Generate some surrogate data\n",
    "\n",
    "np.random.seed(29041996)  # Make sure we all have the same data\n",
    "temp = 20 * np.cos(np.linspace(0, 2 * np.pi, 100)) + 80 + 2 * np.random.randn(100)\n",
    "rh = np.abs(0.1 * np.cos(np.linspace(0, 4 * np.pi, 100))\n",
    "            + 0.3 + 0.05 * np.random.randn(100))"
   ]
  },
  {
   "cell_type": "code",
   "execution_count": 79,
   "metadata": {
    "ExecuteTime": {
     "end_time": "2024-03-07T19:16:59.461354Z",
     "start_time": "2024-03-07T19:16:59.447271Z"
    }
   },
   "outputs": [
    {
     "data": {
      "text/plain": "79.00078388998652"
     },
     "execution_count": 79,
     "metadata": {},
     "output_type": "execute_result"
    }
   ],
   "source": [
    "#print(temp)\n",
    "rh_mask = rh < 0.3  #creates a boolean mask where element at index i is true if rn[i] is smaller than 0.3\n",
    "temp_nan = temp.copy()  # copy temp array to avoid changing original array in case we need the original data\n",
    "temp_nan[rh_mask] = np.nan  # replace every value with np.nan if the corresponding index in rh is < 0.3\n",
    "\n",
    "np.nanmean(temp_nan)  # calculate the mean, nanmean() is used to ignore the nan values, using mean() would return nan"
   ]
  },
  {
   "cell_type": "markdown",
   "metadata": {},
   "source": [
    "<h3 style=\"text-align:left;\">Exercise 4 - Base converter<span style=\"float: right\">2 points</span></h3>"
   ]
  },
  {
   "cell_type": "markdown",
   "metadata": {},
   "source": [
    "Write a function *int_to_bin* that takes a positive integer as input and returns the binary equivalent of that integer.\n",
    "\n",
    "You can **not** use built-in methods such as *bin()* in your solution."
   ]
  },
  {
   "cell_type": "code",
   "execution_count": 134,
   "metadata": {
    "ExecuteTime": {
     "end_time": "2024-03-07T20:51:04.615025Z",
     "start_time": "2024-03-07T20:51:04.592489Z"
    }
   },
   "outputs": [
    {
     "name": "stdout",
     "output_type": "stream",
     "text": [
      "int_to_bin: 0b10001\n",
      "expected:   0b10001\n"
     ]
    }
   ],
   "source": [
    "def int_to_bin(number: int) -> str:\n",
    "    \"\"\"Converts a positive integer to its binary representation. number has to be a positive integer.\n",
    "    Returns a string\"\"\"\n",
    "    if number < 0:  # assert the given number is positive\n",
    "        raise Exception('provided number is not positive')\n",
    "\n",
    "    bin_rep: str = '0b'  # start the binary representation with 0b, which signals the number is in binary\n",
    "    if number == 0:  # guard clause if the number is 0, since this would yield an incorrect result otherwise\n",
    "        bin_rep += '0'\n",
    "        return bin_rep\n",
    "\n",
    "    digits: int = bin_digits(number)  # calculate how many digits the binary representation will have\n",
    "\n",
    "    for position in range(digits - 1, -1, -1):\n",
    "        # for each digit of the binary representation, check if the digit will be 0 or 1.\n",
    "        position_value: int = 2 ** position\n",
    "        bin_rep += str(number // position_value)\n",
    "        # add '0' or '1' to the binary representation based on if remaining number is larger or equal to position_value\n",
    "        number = number % position_value  # calculate the remainder which has to be converted to binary\n",
    "    return bin_rep\n",
    "\n",
    "\n",
    "def bin_digits(number: int) -> int:\n",
    "    \"\"\"Calculates how many digits the binary representation will have. Is equivalent to floor(log2(number)), but without using builtin methods.\"\"\"\n",
    "    position: int = 0\n",
    "    while number >= 2 ** position:\n",
    "        position += 1\n",
    "    return position\n",
    "\n",
    "\n",
    "test = 17\n",
    "to_bin: str = int_to_bin(test)\n",
    "print(\"int_to_bin: \" + to_bin)\n",
    "print(\"expected:   \" + bin(test))"
   ]
  },
  {
   "cell_type": "markdown",
   "metadata": {},
   "source": [
    "<h3 style=\"text-align:left;\">Exercise 5 - Broadcasting<span style=\"float: right\">2 points</span></h3>"
   ]
  },
  {
   "cell_type": "markdown",
   "metadata": {},
   "source": [
    "Reshape *a* so it is possible to multiply *a* and *b*, and explain why you had to reshape *a* to be able to multiply the two arrays."
   ]
  },
  {
   "cell_type": "code",
   "execution_count": 81,
   "metadata": {
    "ExecuteTime": {
     "end_time": "2024-03-07T19:16:59.508268Z",
     "start_time": "2024-03-07T19:16:59.501326Z"
    }
   },
   "outputs": [],
   "source": [
    "import numpy as np\n",
    "\n",
    "a = np.array([[1, 2, 3], [4, 5, 6]])\n",
    "b = np.array([2, 3])\n",
    "\n",
    "###\n",
    "# YOUR CODE GOES HERE\n",
    "###"
   ]
  },
  {
   "cell_type": "code",
   "execution_count": 82,
   "metadata": {
    "ExecuteTime": {
     "end_time": "2024-03-07T19:16:59.524273Z",
     "start_time": "2024-03-07T19:16:59.510267Z"
    }
   },
   "outputs": [],
   "source": [
    "###\n",
    "# YOUR COMMENT HERE\n",
    "###"
   ]
  },
  {
   "cell_type": "markdown",
   "metadata": {},
   "source": [
    "<h3 style=\"text-align:left;\">Exercise 6 - Moving average<span style=\"float: right\">3 points</span></h3>"
   ]
  },
  {
   "cell_type": "markdown",
   "metadata": {},
   "source": [
    "Given the array of values, *a*, we can calculate the moving average by averaging nearby values and repeating the procedure sliding along the array. Here's an example of a 3-point moving average (ignoring the edges), with a for loop:"
   ]
  },
  {
   "cell_type": "code",
   "execution_count": 83,
   "metadata": {
    "ExecuteTime": {
     "end_time": "2024-03-07T19:16:59.539830Z",
     "start_time": "2024-03-07T19:16:59.526274Z"
    }
   },
   "outputs": [
    {
     "name": "stdout",
     "output_type": "stream",
     "text": [
      "[35.3 30.8 32.2 29.8 28.7 28.2 33.6 31.3 28.6 31.3 28.5 28.6 30.8 29.4\n",
      " 31.7 31.9 31.2 29.3 30.7 33.3]\n",
      "[35.3        32.76666667 30.93333333 30.23333333 28.9        30.16666667\n",
      " 31.03333333 31.16666667 30.4        29.46666667 29.46666667 29.3\n",
      " 29.6        30.63333333 31.         31.6        30.8        30.4\n",
      " 31.1        33.3       ]\n"
     ]
    }
   ],
   "source": [
    "a = np.round(30 + np.random.randn(20) * 2, 1)\n",
    "print(a)\n",
    "\n",
    "# Moving average\n",
    "a_avg = np.zeros_like(a)\n",
    "# We're just ignoring the edge effects here\n",
    "for i in range(1, len(a) - 1):\n",
    "    sub = a[i - 1:i + 2]\n",
    "    a_avg[i] = sub.mean()\n",
    "# For the first and last point, we use the original values.\n",
    "a_avg[[0, -1]] = a[[0, -1]]\n",
    "print(a_avg)"
   ]
  },
  {
   "cell_type": "markdown",
   "metadata": {},
   "source": [
    "Write a function *mov_avg* that takes an array in input and returns its 3-point moving average. You **have to use broadcasting** to compute the moving average. As in the example, use the original array values at the borders."
   ]
  },
  {
   "cell_type": "code",
   "execution_count": 84,
   "metadata": {
    "ExecuteTime": {
     "end_time": "2024-03-07T19:16:59.555825Z",
     "start_time": "2024-03-07T19:16:59.541826Z"
    }
   },
   "outputs": [],
   "source": [
    "###\n",
    "# YOUR CODE GOES HERE\n",
    "###"
   ]
  }
 ],
 "metadata": {
  "kernelspec": {
   "display_name": "dash",
   "language": "python",
   "name": "python3"
  },
  "language_info": {
   "codemirror_mode": {
    "name": "ipython",
    "version": 3
   },
   "file_extension": ".py",
   "mimetype": "text/x-python",
   "name": "python",
   "nbconvert_exporter": "python",
   "pygments_lexer": "ipython3",
   "version": "3.8.0"
  }
 },
 "nbformat": 4,
 "nbformat_minor": 2
}
